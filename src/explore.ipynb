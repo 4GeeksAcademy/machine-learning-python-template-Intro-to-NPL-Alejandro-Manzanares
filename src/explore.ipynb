{
    "cells": [
        {
            "cell_type": "markdown",
            "metadata": {},
            "source": [
                "# Explore here"
            ]
        },
        {
            "cell_type": "code",
            "execution_count": 2,
            "metadata": {},
            "outputs": [
                {
                    "data": {
                        "text/html": [
                            "<div>\n",
                            "<style scoped>\n",
                            "    .dataframe tbody tr th:only-of-type {\n",
                            "        vertical-align: middle;\n",
                            "    }\n",
                            "\n",
                            "    .dataframe tbody tr th {\n",
                            "        vertical-align: top;\n",
                            "    }\n",
                            "\n",
                            "    .dataframe thead th {\n",
                            "        text-align: right;\n",
                            "    }\n",
                            "</style>\n",
                            "<table border=\"1\" class=\"dataframe\">\n",
                            "  <thead>\n",
                            "    <tr style=\"text-align: right;\">\n",
                            "      <th></th>\n",
                            "      <th>url</th>\n",
                            "      <th>is_spam</th>\n",
                            "    </tr>\n",
                            "  </thead>\n",
                            "  <tbody>\n",
                            "    <tr>\n",
                            "      <th>0</th>\n",
                            "      <td>https://briefingday.us8.list-manage.com/unsubs...</td>\n",
                            "      <td>True</td>\n",
                            "    </tr>\n",
                            "    <tr>\n",
                            "      <th>1</th>\n",
                            "      <td>https://www.hvper.com/</td>\n",
                            "      <td>True</td>\n",
                            "    </tr>\n",
                            "    <tr>\n",
                            "      <th>2</th>\n",
                            "      <td>https://briefingday.com/m/v4n3i4f3</td>\n",
                            "      <td>True</td>\n",
                            "    </tr>\n",
                            "    <tr>\n",
                            "      <th>3</th>\n",
                            "      <td>https://briefingday.com/n/20200618/m#commentform</td>\n",
                            "      <td>False</td>\n",
                            "    </tr>\n",
                            "    <tr>\n",
                            "      <th>4</th>\n",
                            "      <td>https://briefingday.com/fan</td>\n",
                            "      <td>True</td>\n",
                            "    </tr>\n",
                            "  </tbody>\n",
                            "</table>\n",
                            "</div>"
                        ],
                        "text/plain": [
                            "                                                 url  is_spam\n",
                            "0  https://briefingday.us8.list-manage.com/unsubs...     True\n",
                            "1                             https://www.hvper.com/     True\n",
                            "2                 https://briefingday.com/m/v4n3i4f3     True\n",
                            "3   https://briefingday.com/n/20200618/m#commentform    False\n",
                            "4                        https://briefingday.com/fan     True"
                        ]
                    },
                    "execution_count": 2,
                    "metadata": {},
                    "output_type": "execute_result"
                }
            ],
            "source": [
                "# Your code here\n",
                "import pandas as pd\n",
                "\n",
                "url = 'https://raw.githubusercontent.com/4GeeksAcademy/NLP-project-tutorial/main/url_spam.csv'\n",
                "total_data = pd.read_csv(url)\n",
                "\n",
                "total_data.head()"
            ]
        },
        {
            "cell_type": "code",
            "execution_count": 3,
            "metadata": {},
            "outputs": [
                {
                    "data": {
                        "text/html": [
                            "<div>\n",
                            "<style scoped>\n",
                            "    .dataframe tbody tr th:only-of-type {\n",
                            "        vertical-align: middle;\n",
                            "    }\n",
                            "\n",
                            "    .dataframe tbody tr th {\n",
                            "        vertical-align: top;\n",
                            "    }\n",
                            "\n",
                            "    .dataframe thead th {\n",
                            "        text-align: right;\n",
                            "    }\n",
                            "</style>\n",
                            "<table border=\"1\" class=\"dataframe\">\n",
                            "  <thead>\n",
                            "    <tr style=\"text-align: right;\">\n",
                            "      <th></th>\n",
                            "      <th>url</th>\n",
                            "      <th>is_spam</th>\n",
                            "    </tr>\n",
                            "  </thead>\n",
                            "  <tbody>\n",
                            "    <tr>\n",
                            "      <th>0</th>\n",
                            "      <td>https://briefingday.us8.list-manage.com/unsubs...</td>\n",
                            "      <td>1</td>\n",
                            "    </tr>\n",
                            "    <tr>\n",
                            "      <th>1</th>\n",
                            "      <td>https://www.hvper.com/</td>\n",
                            "      <td>1</td>\n",
                            "    </tr>\n",
                            "    <tr>\n",
                            "      <th>2</th>\n",
                            "      <td>https://briefingday.com/m/v4n3i4f3</td>\n",
                            "      <td>1</td>\n",
                            "    </tr>\n",
                            "    <tr>\n",
                            "      <th>3</th>\n",
                            "      <td>https://briefingday.com/n/20200618/m#commentform</td>\n",
                            "      <td>0</td>\n",
                            "    </tr>\n",
                            "    <tr>\n",
                            "      <th>4</th>\n",
                            "      <td>https://briefingday.com/fan</td>\n",
                            "      <td>1</td>\n",
                            "    </tr>\n",
                            "  </tbody>\n",
                            "</table>\n",
                            "</div>"
                        ],
                        "text/plain": [
                            "                                                 url  is_spam\n",
                            "0  https://briefingday.us8.list-manage.com/unsubs...        1\n",
                            "1                             https://www.hvper.com/        1\n",
                            "2                 https://briefingday.com/m/v4n3i4f3        1\n",
                            "3   https://briefingday.com/n/20200618/m#commentform        0\n",
                            "4                        https://briefingday.com/fan        1"
                        ]
                    },
                    "execution_count": 3,
                    "metadata": {},
                    "output_type": "execute_result"
                }
            ],
            "source": [
                "#Se transforma los datos categoricos a numericos\n",
                "total_data[\"is_spam\"] = total_data[\"is_spam\"].apply(int)\n",
                "total_data.head()"
            ]
        },
        {
            "cell_type": "code",
            "execution_count": 5,
            "metadata": {},
            "outputs": [
                {
                    "name": "stdout",
                    "output_type": "stream",
                    "text": [
                        "Dimensiones del DataFrame: (2369, 2)\n",
                        "Spam: 244\n",
                        "No spam: 2125\n"
                    ]
                }
            ],
            "source": [
                "# Eliminar duplicados y reiniciar el índice\n",
                "total_data = total_data.drop_duplicates().reset_index(drop=True)\n",
                "\n",
                "# Obtener dimensiones del DataFrame\n",
                "data_shape = total_data.shape\n",
                "print(f\"Dimensiones del DataFrame: {data_shape}\")\n",
                "\n",
                "# Calcular el número de elementos \"spam\" y \"no spam\"\n",
                "spam_count = total_data[total_data['is_spam'] == 1].shape[0]\n",
                "non_spam_count = total_data[total_data['is_spam'] == 0].shape[0]\n",
                "\n",
                "# Imprimir los resultados\n",
                "print(f\"Spam: {spam_count}\")\n",
                "print(f\"No spam: {non_spam_count}\")"
            ]
        },
        {
            "cell_type": "code",
            "execution_count": 9,
            "metadata": {},
            "outputs": [
                {
                    "name": "stderr",
                    "output_type": "stream",
                    "text": [
                        "[nltk_data] Downloading package punkt to /home/vscode/nltk_data...\n",
                        "[nltk_data]   Package punkt is already up-to-date!\n",
                        "[nltk_data] Downloading package stopwords to /home/vscode/nltk_data...\n",
                        "[nltk_data]   Package stopwords is already up-to-date!\n",
                        "[nltk_data] Downloading package wordnet to /home/vscode/nltk_data...\n",
                        "[nltk_data]   Package wordnet is already up-to-date!\n"
                    ]
                }
            ],
            "source": [
                "# Importar las bibliotecas necesarias\n",
                "import re\n",
                "from nltk.corpus import stopwords\n",
                "from nltk.tokenize import word_tokenize\n",
                "from nltk.stem import WordNetLemmatizer\n",
                "\n",
                "import nltk\n",
                "\n",
                "# Descargar recursos de NLTK (si no están ya disponibles)\n",
                "nltk.download('punkt')  # Tokenizador en inglés\n",
                "nltk.download('stopwords')  # Lista de palabras vacías (stopwords)\n",
                "nltk.download('wordnet')  # Base de datos para lematización\n",
                "\n",
                "# Crear un conjunto de palabras vacías (stopwords) y un objeto para lematización\n",
                "stop_words = set(stopwords.words('english'))\n",
                "lemmatizer = WordNetLemmatizer()\n",
                "\n",
                "# Definir un conjunto con tokens irrelevantes que se encuentran comúnmente en URLs\n",
                "# Estos incluyen elementos como \"http\", \"https\", \"www\" y extensiones de dominio\n",
                "irrelevant_tokens = {'http', 'https', 'www', 'com', 'net', 'org'} \n",
                "\n",
                "# Función para procesar URLs\n",
                "def preprocess_url(url):\n",
                "    \"\"\"\n",
                "    Esta función toma una URL como entrada y la procesa para extraer tokens relevantes.\n",
                "    1. Divide la URL utilizando delimitadores como '/', '.', '?' y '-'.\n",
                "    2. Convierte los tokens en minúsculas y elimina aquellos que estén en la lista de tokens irrelevantes.\n",
                "    3. Filtra palabras vacías (stopwords) de los tokens.\n",
                "    4. Aplica lematización a los tokens para convertirlos a su forma base.\n",
                "    \"\"\"\n",
                "    # Dividir la URL usando expresiones regulares\n",
                "    tokens = re.split(r'[/.?-]+', url)  \n",
                "    \n",
                "    # Convertir tokens a minúsculas y eliminar tokens irrelevantes\n",
                "    tokens = [token.lower() for token in tokens if token and token.lower() not in irrelevant_tokens]\n",
                "    \n",
                "    # Filtrar palabras vacías\n",
                "    tokens = [token for token in tokens if token not in stop_words]\n",
                "    \n",
                "    # Aplicar lematización\n",
                "    tokens = [lemmatizer.lemmatize(token) for token in tokens]\n",
                "    \n",
                "    # Retornar los tokens procesados\n",
                "    return tokens"
            ]
        },
        {
            "cell_type": "code",
            "execution_count": 10,
            "metadata": {},
            "outputs": [
                {
                    "name": "stdout",
                    "output_type": "stream",
                    "text": [
                        "Primeras filas del DataFrame después del preprocesamiento de URLs:\n",
                        "                                                 url  is_spam\n",
                        "0  [https:, briefingday, us8, list, manage, unsub...        1\n",
                        "1                                    [https:, hvper]        1\n",
                        "2                    [https:, briefingday, v4n3i4f3]        1\n",
                        "3  [https:, briefingday, n, 20200618, m#commentform]        0\n",
                        "4                         [https:, briefingday, fan]        1\n"
                    ]
                }
            ],
            "source": [
                "# Aplicar la función de preprocesamiento a cada URL en la columna 'url'\n",
                "# Esto transforma las URLs en conjuntos de tokens limpios y relevantes\n",
                "total_data[\"url\"] = total_data[\"url\"].map(preprocess_url)\n",
                "\n",
                "# Imprimir las primeras filas del DataFrame para inspeccionar los cambios\n",
                "print(\"Primeras filas del DataFrame después del preprocesamiento de URLs:\")\n",
                "print(total_data.head())"
            ]
        },
        {
            "cell_type": "code",
            "execution_count": 11,
            "metadata": {},
            "outputs": [
                {
                    "name": "stdout",
                    "output_type": "stream",
                    "text": [
                        "Matriz TF-IDF (X): (2369, 665)\n",
                        "Etiquetas (y): (2369,)\n"
                    ]
                }
            ],
            "source": [
                "# Importar la clase TfidfVectorizer desde la biblioteca scikit-learn\n",
                "from sklearn.feature_extraction.text import TfidfVectorizer\n",
                "\n",
                "# Extraer la columna \"url\" del DataFrame y convertir los tokens en cadenas de texto unidas\n",
                "# Cada lista de tokens se transforma en una única cadena con las palabras separadas por espacios\n",
                "tokens_list = total_data[\"url\"]\n",
                "tokens_list = [\" \".join(tokens) for tokens in tokens_list]  # Combinar tokens en texto para el análisis\n",
                "\n",
                "# Configurar el vectorizador TF-IDF con parámetros específicos\n",
                "# - max_features: máximo de características (palabras) a incluir\n",
                "# - max_df: ignorar palabras que aparecen en más del 80% de los documentos\n",
                "# - min_df: ignorar palabras que aparecen en menos de 5 documentos\n",
                "vectorizer = TfidfVectorizer(max_features=5000, max_df=0.8, min_df=5)\n",
                "\n",
                "# Transformar el texto en una matriz TF-IDF y convertirla en un arreglo numpy\n",
                "X = vectorizer.fit_transform(tokens_list).toarray()\n",
                "\n",
                "# Extraer la variable objetivo (etiquetas) del DataFrame\n",
                "y = total_data[\"is_spam\"]\n",
                "\n",
                "# Imprimir información sobre las dimensiones de las matrices para ver el tamaño de los datos procesados\n",
                "print(f\"Matriz TF-IDF (X): {X.shape}\")\n",
                "print(f\"Etiquetas (y): {y.shape}\")"
            ]
        },
        {
            "cell_type": "code",
            "execution_count": 12,
            "metadata": {},
            "outputs": [
                {
                    "name": "stdout",
                    "output_type": "stream",
                    "text": [
                        "X_train shape: (1895, 665), X_test shape: (474, 665)\n",
                        "y_train shape: (1895,), y_test shape: (474,)\n"
                    ]
                }
            ],
            "source": [
                "# Importar la función train_test_split para dividir los datos\n",
                "from sklearn.model_selection import train_test_split\n",
                "\n",
                "# Dividir los datos en conjuntos de entrenamiento y prueba\n",
                "# - test_size: Define el porcentaje de datos asignados al conjunto de prueba (20% en este caso)\n",
                "# - random_state: Garantiza que la división sea reproducible si se ejecuta nuevamente\n",
                "X_train, X_test, y_train, y_test = train_test_split(X, y, test_size=0.2, random_state=42)\n",
                "\n",
                "# Imprimir el tamaño de los conjuntos de entrenamiento y prueba para confirmar la división\n",
                "print(f\"X_train shape: {X_train.shape}, X_test shape: {X_test.shape}\")\n",
                "print(f\"y_train shape: {y_train.shape}, y_test shape: {y_test.shape}\")\n"
            ]
        },
        {
            "cell_type": "code",
            "execution_count": 13,
            "metadata": {},
            "outputs": [],
            "source": [
                "# Importar el modelo SVC (Support Vector Classifier) desde sklearn\n",
                "from sklearn.svm import SVC\n",
                "\n",
                "# Crear un modelo SVM con un núcleo RBF (Radial Basis Function)\n",
                "# - kernel=\"rbf\": Especifica que se usará la función base radial como kernel\n",
                "# - C=1.0: Parámetro de regularización, un valor más alto penaliza más los errores\n",
                "# - gamma=0.5: Define la influencia de cada punto de datos en la clasificación\n",
                "model = SVC(kernel=\"rbf\", C=1.0, gamma=0.5)\n",
                "\n",
                "# Entrenar el modelo con los datos de entrenamiento\n",
                "# X_train: Características (inputs) del entrenamiento\n",
                "# y_train: Etiquetas (outputs) del entrenamiento\n",
                "model.fit(X_train, y_train)\n",
                "\n",
                "# Realizar predicciones sobre los datos de prueba\n",
                "# Esto genera un array con las clases predichas para cada ejemplo de prueba\n",
                "y_pred = model.predict(X_test)\n"
            ]
        },
        {
            "cell_type": "code",
            "execution_count": 14,
            "metadata": {},
            "outputs": [
                {
                    "name": "stdout",
                    "output_type": "stream",
                    "text": [
                        "Precisión del modelo: 0.9599\n"
                    ]
                }
            ],
            "source": [
                "# Importar la función accuracy_score para calcular la precisión del modelo\n",
                "from sklearn.metrics import accuracy_score\n",
                "\n",
                "# Calcular la precisión comparando las etiquetas reales (y_test) con las predicciones (y_pred)\n",
                "accuracy = accuracy_score(y_test, y_pred)\n",
                "\n",
                "# Imprimir el resultado de la precisión con un formato claro\n",
                "print(f\"Precisión del modelo: {accuracy:.4f}\")\n"
            ]
        },
        {
            "cell_type": "markdown",
            "metadata": {},
            "source": [
                "La precisión obtenida del 95% es un resultado bastante prometedor para este tipo de modelo. Sin embargo, existe la posibilidad de mejorar el rendimiento ajustando los hiperparámetros para buscar configuraciones más óptimas y perfeccionar el proceso de aprendizaje."
            ]
        },
        {
            "cell_type": "code",
            "execution_count": 15,
            "metadata": {},
            "outputs": [
                {
                    "name": "stdout",
                    "output_type": "stream",
                    "text": [
                        "Fitting 5 folds for each of 32 candidates, totalling 160 fits\n",
                        "[CV] END .....................C=0.1, gamma=0.001, kernel=rbf; total time=   0.2s\n",
                        "[CV] END .....................C=0.1, gamma=0.001, kernel=rbf; total time=   0.2s\n",
                        "[CV] END .....................C=0.1, gamma=0.001, kernel=rbf; total time=   0.2s\n",
                        "[CV] END .....................C=0.1, gamma=0.001, kernel=rbf; total time=   0.2s\n",
                        "[CV] END .....................C=0.1, gamma=0.001, kernel=rbf; total time=   0.2s\n",
                        "[CV] END ..................C=0.1, gamma=0.001, kernel=linear; total time=   0.2s\n",
                        "[CV] END ..................C=0.1, gamma=0.001, kernel=linear; total time=   0.2s\n",
                        "[CV] END ..................C=0.1, gamma=0.001, kernel=linear; total time=   0.2s\n",
                        "[CV] END ..................C=0.1, gamma=0.001, kernel=linear; total time=   0.2s\n",
                        "[CV] END ..................C=0.1, gamma=0.001, kernel=linear; total time=   0.2s\n",
                        "[CV] END ......................C=0.1, gamma=0.01, kernel=rbf; total time=   0.2s\n",
                        "[CV] END ......................C=0.1, gamma=0.01, kernel=rbf; total time=   0.2s\n",
                        "[CV] END ......................C=0.1, gamma=0.01, kernel=rbf; total time=   0.2s\n",
                        "[CV] END ......................C=0.1, gamma=0.01, kernel=rbf; total time=   0.2s\n",
                        "[CV] END ......................C=0.1, gamma=0.01, kernel=rbf; total time=   0.2s\n",
                        "[CV] END ...................C=0.1, gamma=0.01, kernel=linear; total time=   0.2s\n",
                        "[CV] END ...................C=0.1, gamma=0.01, kernel=linear; total time=   0.2s\n",
                        "[CV] END ...................C=0.1, gamma=0.01, kernel=linear; total time=   0.2s\n",
                        "[CV] END ...................C=0.1, gamma=0.01, kernel=linear; total time=   0.2s\n",
                        "[CV] END ...................C=0.1, gamma=0.01, kernel=linear; total time=   0.2s\n",
                        "[CV] END .......................C=0.1, gamma=0.1, kernel=rbf; total time=   0.2s\n",
                        "[CV] END .......................C=0.1, gamma=0.1, kernel=rbf; total time=   0.2s\n",
                        "[CV] END .......................C=0.1, gamma=0.1, kernel=rbf; total time=   0.2s\n",
                        "[CV] END .......................C=0.1, gamma=0.1, kernel=rbf; total time=   0.2s\n",
                        "[CV] END .......................C=0.1, gamma=0.1, kernel=rbf; total time=   0.2s\n",
                        "[CV] END ....................C=0.1, gamma=0.1, kernel=linear; total time=   0.2s\n",
                        "[CV] END ....................C=0.1, gamma=0.1, kernel=linear; total time=   0.2s\n",
                        "[CV] END ....................C=0.1, gamma=0.1, kernel=linear; total time=   0.2s\n",
                        "[CV] END ....................C=0.1, gamma=0.1, kernel=linear; total time=   0.2s\n",
                        "[CV] END ....................C=0.1, gamma=0.1, kernel=linear; total time=   0.2s\n",
                        "[CV] END .........................C=0.1, gamma=1, kernel=rbf; total time=   0.4s\n",
                        "[CV] END .........................C=0.1, gamma=1, kernel=rbf; total time=   0.3s\n",
                        "[CV] END .........................C=0.1, gamma=1, kernel=rbf; total time=   0.3s\n",
                        "[CV] END .........................C=0.1, gamma=1, kernel=rbf; total time=   0.3s\n",
                        "[CV] END .........................C=0.1, gamma=1, kernel=rbf; total time=   0.3s\n",
                        "[CV] END ......................C=0.1, gamma=1, kernel=linear; total time=   0.2s\n",
                        "[CV] END ......................C=0.1, gamma=1, kernel=linear; total time=   0.2s\n",
                        "[CV] END ......................C=0.1, gamma=1, kernel=linear; total time=   0.2s\n",
                        "[CV] END ......................C=0.1, gamma=1, kernel=linear; total time=   0.2s\n",
                        "[CV] END ......................C=0.1, gamma=1, kernel=linear; total time=   0.2s\n",
                        "[CV] END .......................C=1, gamma=0.001, kernel=rbf; total time=   0.2s\n",
                        "[CV] END .......................C=1, gamma=0.001, kernel=rbf; total time=   0.2s\n",
                        "[CV] END .......................C=1, gamma=0.001, kernel=rbf; total time=   0.2s\n",
                        "[CV] END .......................C=1, gamma=0.001, kernel=rbf; total time=   0.2s\n",
                        "[CV] END .......................C=1, gamma=0.001, kernel=rbf; total time=   0.2s\n",
                        "[CV] END ....................C=1, gamma=0.001, kernel=linear; total time=   0.2s\n",
                        "[CV] END ....................C=1, gamma=0.001, kernel=linear; total time=   0.1s\n",
                        "[CV] END ....................C=1, gamma=0.001, kernel=linear; total time=   0.1s\n",
                        "[CV] END ....................C=1, gamma=0.001, kernel=linear; total time=   0.1s\n",
                        "[CV] END ....................C=1, gamma=0.001, kernel=linear; total time=   0.1s\n",
                        "[CV] END ........................C=1, gamma=0.01, kernel=rbf; total time=   0.2s\n",
                        "[CV] END ........................C=1, gamma=0.01, kernel=rbf; total time=   0.2s\n",
                        "[CV] END ........................C=1, gamma=0.01, kernel=rbf; total time=   0.2s\n",
                        "[CV] END ........................C=1, gamma=0.01, kernel=rbf; total time=   0.2s\n",
                        "[CV] END ........................C=1, gamma=0.01, kernel=rbf; total time=   0.2s\n",
                        "[CV] END .....................C=1, gamma=0.01, kernel=linear; total time=   0.2s\n",
                        "[CV] END .....................C=1, gamma=0.01, kernel=linear; total time=   0.1s\n",
                        "[CV] END .....................C=1, gamma=0.01, kernel=linear; total time=   0.2s\n",
                        "[CV] END .....................C=1, gamma=0.01, kernel=linear; total time=   0.2s\n",
                        "[CV] END .....................C=1, gamma=0.01, kernel=linear; total time=   0.1s\n",
                        "[CV] END .........................C=1, gamma=0.1, kernel=rbf; total time=   0.2s\n",
                        "[CV] END .........................C=1, gamma=0.1, kernel=rbf; total time=   0.2s\n",
                        "[CV] END .........................C=1, gamma=0.1, kernel=rbf; total time=   0.2s\n",
                        "[CV] END .........................C=1, gamma=0.1, kernel=rbf; total time=   0.2s\n",
                        "[CV] END .........................C=1, gamma=0.1, kernel=rbf; total time=   0.2s\n",
                        "[CV] END ......................C=1, gamma=0.1, kernel=linear; total time=   0.2s\n",
                        "[CV] END ......................C=1, gamma=0.1, kernel=linear; total time=   0.2s\n",
                        "[CV] END ......................C=1, gamma=0.1, kernel=linear; total time=   0.2s\n",
                        "[CV] END ......................C=1, gamma=0.1, kernel=linear; total time=   0.1s\n",
                        "[CV] END ......................C=1, gamma=0.1, kernel=linear; total time=   0.2s\n",
                        "[CV] END ...........................C=1, gamma=1, kernel=rbf; total time=   0.3s\n",
                        "[CV] END ...........................C=1, gamma=1, kernel=rbf; total time=   0.3s\n",
                        "[CV] END ...........................C=1, gamma=1, kernel=rbf; total time=   0.3s\n",
                        "[CV] END ...........................C=1, gamma=1, kernel=rbf; total time=   0.3s\n",
                        "[CV] END ...........................C=1, gamma=1, kernel=rbf; total time=   0.3s\n",
                        "[CV] END ........................C=1, gamma=1, kernel=linear; total time=   0.2s\n",
                        "[CV] END ........................C=1, gamma=1, kernel=linear; total time=   0.1s\n",
                        "[CV] END ........................C=1, gamma=1, kernel=linear; total time=   0.1s\n",
                        "[CV] END ........................C=1, gamma=1, kernel=linear; total time=   0.1s\n",
                        "[CV] END ........................C=1, gamma=1, kernel=linear; total time=   0.1s\n",
                        "[CV] END ......................C=10, gamma=0.001, kernel=rbf; total time=   0.3s\n",
                        "[CV] END ......................C=10, gamma=0.001, kernel=rbf; total time=   0.2s\n",
                        "[CV] END ......................C=10, gamma=0.001, kernel=rbf; total time=   0.2s\n",
                        "[CV] END ......................C=10, gamma=0.001, kernel=rbf; total time=   0.3s\n",
                        "[CV] END ......................C=10, gamma=0.001, kernel=rbf; total time=   0.2s\n",
                        "[CV] END ...................C=10, gamma=0.001, kernel=linear; total time=   0.2s\n",
                        "[CV] END ...................C=10, gamma=0.001, kernel=linear; total time=   0.2s\n",
                        "[CV] END ...................C=10, gamma=0.001, kernel=linear; total time=   0.1s\n",
                        "[CV] END ...................C=10, gamma=0.001, kernel=linear; total time=   0.1s\n",
                        "[CV] END ...................C=10, gamma=0.001, kernel=linear; total time=   0.1s\n",
                        "[CV] END .......................C=10, gamma=0.01, kernel=rbf; total time=   0.2s\n",
                        "[CV] END .......................C=10, gamma=0.01, kernel=rbf; total time=   0.2s\n",
                        "[CV] END .......................C=10, gamma=0.01, kernel=rbf; total time=   0.3s\n",
                        "[CV] END .......................C=10, gamma=0.01, kernel=rbf; total time=   0.2s\n",
                        "[CV] END .......................C=10, gamma=0.01, kernel=rbf; total time=   0.2s\n",
                        "[CV] END ....................C=10, gamma=0.01, kernel=linear; total time=   0.2s\n",
                        "[CV] END ....................C=10, gamma=0.01, kernel=linear; total time=   0.1s\n",
                        "[CV] END ....................C=10, gamma=0.01, kernel=linear; total time=   0.1s\n",
                        "[CV] END ....................C=10, gamma=0.01, kernel=linear; total time=   0.1s\n",
                        "[CV] END ....................C=10, gamma=0.01, kernel=linear; total time=   0.1s\n",
                        "[CV] END ........................C=10, gamma=0.1, kernel=rbf; total time=   0.2s\n",
                        "[CV] END ........................C=10, gamma=0.1, kernel=rbf; total time=   0.2s\n",
                        "[CV] END ........................C=10, gamma=0.1, kernel=rbf; total time=   0.2s\n",
                        "[CV] END ........................C=10, gamma=0.1, kernel=rbf; total time=   0.2s\n",
                        "[CV] END ........................C=10, gamma=0.1, kernel=rbf; total time=   0.2s\n",
                        "[CV] END .....................C=10, gamma=0.1, kernel=linear; total time=   0.1s\n",
                        "[CV] END .....................C=10, gamma=0.1, kernel=linear; total time=   0.1s\n",
                        "[CV] END .....................C=10, gamma=0.1, kernel=linear; total time=   0.1s\n",
                        "[CV] END .....................C=10, gamma=0.1, kernel=linear; total time=   0.1s\n",
                        "[CV] END .....................C=10, gamma=0.1, kernel=linear; total time=   0.2s\n",
                        "[CV] END ..........................C=10, gamma=1, kernel=rbf; total time=   0.3s\n",
                        "[CV] END ..........................C=10, gamma=1, kernel=rbf; total time=   0.3s\n",
                        "[CV] END ..........................C=10, gamma=1, kernel=rbf; total time=   0.3s\n",
                        "[CV] END ..........................C=10, gamma=1, kernel=rbf; total time=   0.3s\n",
                        "[CV] END ..........................C=10, gamma=1, kernel=rbf; total time=   0.3s\n",
                        "[CV] END .......................C=10, gamma=1, kernel=linear; total time=   0.1s\n",
                        "[CV] END .......................C=10, gamma=1, kernel=linear; total time=   0.2s\n",
                        "[CV] END .......................C=10, gamma=1, kernel=linear; total time=   0.1s\n",
                        "[CV] END .......................C=10, gamma=1, kernel=linear; total time=   0.2s\n",
                        "[CV] END .......................C=10, gamma=1, kernel=linear; total time=   0.1s\n",
                        "[CV] END .....................C=100, gamma=0.001, kernel=rbf; total time=   0.2s\n",
                        "[CV] END .....................C=100, gamma=0.001, kernel=rbf; total time=   0.2s\n",
                        "[CV] END .....................C=100, gamma=0.001, kernel=rbf; total time=   0.2s\n",
                        "[CV] END .....................C=100, gamma=0.001, kernel=rbf; total time=   0.2s\n",
                        "[CV] END .....................C=100, gamma=0.001, kernel=rbf; total time=   0.2s\n",
                        "[CV] END ..................C=100, gamma=0.001, kernel=linear; total time=   0.1s\n",
                        "[CV] END ..................C=100, gamma=0.001, kernel=linear; total time=   0.1s\n",
                        "[CV] END ..................C=100, gamma=0.001, kernel=linear; total time=   0.1s\n",
                        "[CV] END ..................C=100, gamma=0.001, kernel=linear; total time=   0.1s\n",
                        "[CV] END ..................C=100, gamma=0.001, kernel=linear; total time=   0.1s\n",
                        "[CV] END ......................C=100, gamma=0.01, kernel=rbf; total time=   0.2s\n",
                        "[CV] END ......................C=100, gamma=0.01, kernel=rbf; total time=   0.2s\n",
                        "[CV] END ......................C=100, gamma=0.01, kernel=rbf; total time=   0.2s\n",
                        "[CV] END ......................C=100, gamma=0.01, kernel=rbf; total time=   0.2s\n",
                        "[CV] END ......................C=100, gamma=0.01, kernel=rbf; total time=   0.2s\n",
                        "[CV] END ...................C=100, gamma=0.01, kernel=linear; total time=   0.1s\n",
                        "[CV] END ...................C=100, gamma=0.01, kernel=linear; total time=   0.1s\n",
                        "[CV] END ...................C=100, gamma=0.01, kernel=linear; total time=   0.1s\n",
                        "[CV] END ...................C=100, gamma=0.01, kernel=linear; total time=   0.1s\n",
                        "[CV] END ...................C=100, gamma=0.01, kernel=linear; total time=   0.1s\n",
                        "[CV] END .......................C=100, gamma=0.1, kernel=rbf; total time=   0.2s\n",
                        "[CV] END .......................C=100, gamma=0.1, kernel=rbf; total time=   0.2s\n",
                        "[CV] END .......................C=100, gamma=0.1, kernel=rbf; total time=   0.2s\n",
                        "[CV] END .......................C=100, gamma=0.1, kernel=rbf; total time=   0.2s\n",
                        "[CV] END .......................C=100, gamma=0.1, kernel=rbf; total time=   0.2s\n",
                        "[CV] END ....................C=100, gamma=0.1, kernel=linear; total time=   0.1s\n",
                        "[CV] END ....................C=100, gamma=0.1, kernel=linear; total time=   0.1s\n",
                        "[CV] END ....................C=100, gamma=0.1, kernel=linear; total time=   0.2s\n",
                        "[CV] END ....................C=100, gamma=0.1, kernel=linear; total time=   0.2s\n",
                        "[CV] END ....................C=100, gamma=0.1, kernel=linear; total time=   0.1s\n",
                        "[CV] END .........................C=100, gamma=1, kernel=rbf; total time=   0.3s\n",
                        "[CV] END .........................C=100, gamma=1, kernel=rbf; total time=   0.3s\n",
                        "[CV] END .........................C=100, gamma=1, kernel=rbf; total time=   0.3s\n",
                        "[CV] END .........................C=100, gamma=1, kernel=rbf; total time=   0.3s\n",
                        "[CV] END .........................C=100, gamma=1, kernel=rbf; total time=   0.3s\n",
                        "[CV] END ......................C=100, gamma=1, kernel=linear; total time=   0.1s\n",
                        "[CV] END ......................C=100, gamma=1, kernel=linear; total time=   0.1s\n",
                        "[CV] END ......................C=100, gamma=1, kernel=linear; total time=   0.1s\n",
                        "[CV] END ......................C=100, gamma=1, kernel=linear; total time=   0.1s\n",
                        "[CV] END ......................C=100, gamma=1, kernel=linear; total time=   0.1s\n",
                        "Mejores parámetros encontrados: {'C': 10, 'gamma': 1, 'kernel': 'rbf'}\n",
                        "Modelo óptimo: SVC(C=10, gamma=1)\n"
                    ]
                }
            ],
            "source": [
                "# Importar GridSearchCV para la búsqueda de hiperparámetros y SVC como modelo base\n",
                "from sklearn.model_selection import GridSearchCV\n",
                "from sklearn.svm import SVC\n",
                "\n",
                "# Definir el espacio de búsqueda de hiperparámetros\n",
                "param_grid = {\n",
                "    'C': [0.1, 1, 10, 100],      # Valores del parámetro de regularización\n",
                "    'gamma': [0.001, 0.01, 0.1, 1],  # Valores para el parámetro gamma (influencia de puntos)\n",
                "    'kernel': ['rbf', 'linear']  # Tipos de kernel a probar\n",
                "}\n",
                "\n",
                "# Configurar el objeto GridSearchCV\n",
                "# - refit=True: Reajusta el modelo utilizando los mejores parámetros encontrados\n",
                "# - cv=5: Realiza validación cruzada con 5 particiones\n",
                "# - verbose=2: Muestra información sobre el progreso del ajuste\n",
                "grid_search = GridSearchCV(SVC(), param_grid, refit=True, cv=5, verbose=2)\n",
                "\n",
                "# Entrenar GridSearchCV con los datos de entrenamiento\n",
                "grid_search.fit(X_train, y_train)\n",
                "\n",
                "# Imprimir los resultados del mejor conjunto de hiperparámetros\n",
                "print(\"Mejores parámetros encontrados:\", grid_search.best_params_)\n",
                "print(\"Modelo óptimo:\", grid_search.best_estimator_)\n",
                "\n",
                "# Utilizar el mejor modelo encontrado para hacer predicciones en los datos de prueba\n",
                "y_pred = grid_search.predict(X_test)"
            ]
        },
        {
            "cell_type": "code",
            "execution_count": 16,
            "metadata": {},
            "outputs": [
                {
                    "data": {
                        "text/plain": [
                            "0.9641350210970464"
                        ]
                    },
                    "execution_count": 16,
                    "metadata": {},
                    "output_type": "execute_result"
                }
            ],
            "source": [
                "accuracy_score(y_test, y_pred)"
            ]
        },
        {
            "cell_type": "markdown",
            "metadata": {},
            "source": [
                "Un aumento de precisión del 95.99% al 96.41% puede parecer pequeño en términos absolutos, pero en problemas complejos como la clasificación de spam, incluso una mejora del 0.42% es significativa. Este incremento podría indicar que la optimización de los hiperparámetros ha ayudado al modelo a capturar patrones más sutiles en los datos."
            ]
        }
    ],
    "metadata": {
        "kernelspec": {
            "display_name": "Python 3",
            "language": "python",
            "name": "python3"
        },
        "language_info": {
            "codemirror_mode": {
                "name": "ipython",
                "version": 3
            },
            "file_extension": ".py",
            "mimetype": "text/x-python",
            "name": "python",
            "nbconvert_exporter": "python",
            "pygments_lexer": "ipython3",
            "version": "3.11.4"
        },
        "orig_nbformat": 4
    },
    "nbformat": 4,
    "nbformat_minor": 2
}
